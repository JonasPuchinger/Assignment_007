{
 "cells": [
  {
   "cell_type": "markdown",
   "metadata": {},
   "source": [
    "# KLM Report"
   ]
  },
  {
   "cell_type": "markdown",
   "metadata": {},
   "source": [
    "TODO: description"
   ]
  },
  {
   "cell_type": "code",
   "execution_count": 5,
   "metadata": {},
   "outputs": [],
   "source": [
    "from klm import KLM\n",
    "operators_task_7_4_1 = \"operators_task_7_4_1.ini\"\n",
    "operators_task_7_4_2 = \"operators_task_7_4_2.ini\"\n",
    "operators_task_7_4_3 = \"operators_task_7_4_3.ini\"\n",
    "operators_task_7_4_4 = \"operators_task_7_4_4.ini\""
   ]
  },
  {
   "cell_type": "code",
   "execution_count": 7,
   "metadata": {},
   "outputs": [
    {
     "name": "stdout",
     "output_type": "stream",
     "text": [
      "K: 0 P: 49 B: 100 M: 0 H: 0\n",
      "Prediction using original KLM: 63.9s\n",
      "Prediction using custom values: 46.24s\n"
     ]
    }
   ],
   "source": [
    "# Calculate time for task 7.4.1: adding the numbers from 1 to 20 using only the mouse\n",
    "klm_7_4_1 = KLM(operators_task_7_4_1)"
   ]
  },
  {
   "cell_type": "code",
   "execution_count": 8,
   "metadata": {},
   "outputs": [
    {
     "name": "stdout",
     "output_type": "stream",
     "text": [
      "K: 40 P: 0 B: 0 M: 0 H: 0\n",
      "Prediction using original KLM: 11.2s\n",
      "Prediction using custom values: 13.2s\n"
     ]
    }
   ],
   "source": [
    "# Calculate time for task 7.4.2: adding the numbers from 1 to 20 using only the keyboard\n",
    "klm_7_4_2 = KLM(operators_task_7_4_2)"
   ]
  },
  {
   "cell_type": "code",
   "execution_count": 9,
   "metadata": {},
   "outputs": [
    {
     "name": "stdout",
     "output_type": "stream",
     "text": [
      "K: 0 P: 14 B: 32 M: 0 H: 0\n",
      "Prediction using original KLM: 18.6s\n",
      "Prediction using custom values: 13.52s\n"
     ]
    }
   ],
   "source": [
    "# Calculate time for task 7.4.3: calculating the result of (3**2+4**2)∗15.2 using only the mouse\n",
    "klm_7_4_3 = KLM(operators_task_7_4_3)"
   ]
  },
  {
   "cell_type": "code",
   "execution_count": 10,
   "metadata": {},
   "outputs": [
    {
     "name": "stdout",
     "output_type": "stream",
     "text": [
      "K: 17 P: 0 B: 0 M: 0 H: 0\n",
      "Prediction using original KLM: 4.76s\n",
      "Prediction using custom values: 5.61s\n"
     ]
    }
   ],
   "source": [
    "# Calculate time for task 7.4.3: calculating the result of (3**2+4**2)∗15.2 using only the keyboard\n",
    "klm_7_4_4 = KLM(operators_task_7_4_4)"
   ]
  },
  {
   "cell_type": "code",
   "execution_count": null,
   "metadata": {},
   "outputs": [],
   "source": []
  }
 ],
 "metadata": {
  "kernelspec": {
   "display_name": "Python 3",
   "language": "python",
   "name": "python3"
  },
  "language_info": {
   "codemirror_mode": {
    "name": "ipython",
    "version": 3
   },
   "file_extension": ".py",
   "mimetype": "text/x-python",
   "name": "python",
   "nbconvert_exporter": "python",
   "pygments_lexer": "ipython3",
   "version": "3.6.4"
  }
 },
 "nbformat": 4,
 "nbformat_minor": 2
}
